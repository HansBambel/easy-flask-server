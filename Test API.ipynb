{
 "cells": [
  {
   "cell_type": "markdown",
   "metadata": {},
   "source": [
    "### How to run the server\n",
    "- Set up flask app\n",
    "    - in Windows: \"set FLASK_APP=server.py\"\n",
    "    - in Linux: \"export FLASK_APP=server.py\"\n",
    "- \"flask run\""
   ]
  },
  {
   "cell_type": "code",
   "execution_count": 1,
   "metadata": {},
   "outputs": [],
   "source": [
    "import requests\n",
    "import os\n",
    "\n",
    "API_URL = 'http://127.0.0.1:5000'\n",
    "API_KEY = 't0t4llys3cur3k3y'\n",
    "headers = {'API-key': API_KEY}"
   ]
  },
  {
   "cell_type": "markdown",
   "metadata": {},
   "source": [
    "### List all uploaded files"
   ]
  },
  {
   "cell_type": "code",
   "execution_count": 2,
   "metadata": {},
   "outputs": [
    {
     "name": "stdout",
     "output_type": "stream",
     "text": [
      "[]\n"
     ]
    }
   ],
   "source": [
    "response = requests.get(API_URL+'/files')\n",
    "print(response.json())"
   ]
  },
  {
   "cell_type": "markdown",
   "metadata": {},
   "source": [
    "### Upload a file"
   ]
  },
  {
   "cell_type": "code",
   "execution_count": 3,
   "metadata": {},
   "outputs": [
    {
     "name": "stdout",
     "output_type": "stream",
     "text": [
      "201\n",
      "b'Successfully uploaded file.'\n"
     ]
    }
   ],
   "source": [
    "filename = 'requirements.txt'\n",
    "with open(f'{filename}', 'rb') as fp:\n",
    "    content = fp.read()\n",
    "\n",
    "response = requests.post(f'{API_URL}/files/{filename}'.format(API_URL), data=content, headers=headers)\n",
    "\n",
    "print(response.status_code)\n",
    "print(response.content)"
   ]
  },
  {
   "cell_type": "markdown",
   "metadata": {},
   "source": [
    "### Download file from server"
   ]
  },
  {
   "cell_type": "code",
   "execution_count": 4,
   "metadata": {},
   "outputs": [
    {
     "name": "stdout",
     "output_type": "stream",
     "text": [
      "Loading file: requirements.txt\n"
     ]
    }
   ],
   "source": [
    "server_files = requests.get(API_URL+'/files').json()\n",
    "for f in server_files:\n",
    "    print(f'Loading file: {f}')\n",
    "    response = requests.get(f'{API_URL}/files/{f}', headers=headers)\n"
   ]
  },
  {
   "cell_type": "code",
   "execution_count": null,
   "metadata": {},
   "outputs": [],
   "source": []
  }
 ],
 "metadata": {
  "kernelspec": {
   "display_name": "Python 3",
   "language": "python",
   "name": "python3"
  },
  "language_info": {
   "codemirror_mode": {
    "name": "ipython",
    "version": 3
   },
   "file_extension": ".py",
   "mimetype": "text/x-python",
   "name": "python",
   "nbconvert_exporter": "python",
   "pygments_lexer": "ipython3",
   "version": "3.7.3"
  }
 },
 "nbformat": 4,
 "nbformat_minor": 2
}
